{
 "cells": [
  {
   "cell_type": "code",
   "execution_count": 1,
   "id": "a4a52749",
   "metadata": {},
   "outputs": [],
   "source": [
    "from sirf_simind_connection import SimulationConfig"
   ]
  },
  {
   "cell_type": "code",
   "execution_count": 2,
   "id": "9f5f5567",
   "metadata": {},
   "outputs": [
    {
     "name": "stdout",
     "output_type": "stream",
     "text": [
      "AnyScan.yaml\n",
      "Configuration imported from none\n"
     ]
    }
   ],
   "source": [
    "config = SimulationConfig(\"AnyScan.yaml\")"
   ]
  },
  {
   "cell_type": "code",
   "execution_count": 3,
   "id": "3e14c27a",
   "metadata": {},
   "outputs": [
    {
     "data": {
      "text/plain": [
       "PosixPath('input.smc')"
      ]
     },
     "execution_count": 3,
     "metadata": {},
     "output_type": "execute_result"
    }
   ],
   "source": [
    "config.save_file(\"input.smc\")"
   ]
  },
  {
   "cell_type": "code",
   "execution_count": null,
   "id": "5c753fe1",
   "metadata": {},
   "outputs": [],
   "source": []
  }
 ],
 "metadata": {
  "kernelspec": {
   "display_name": "sirf-build",
   "language": "python",
   "name": "python3"
  },
  "language_info": {
   "codemirror_mode": {
    "name": "ipython",
    "version": 3
   },
   "file_extension": ".py",
   "mimetype": "text/x-python",
   "name": "python",
   "nbconvert_exporter": "python",
   "pygments_lexer": "ipython3",
   "version": "3.10.14"
  }
 },
 "nbformat": 4,
 "nbformat_minor": 5
}
